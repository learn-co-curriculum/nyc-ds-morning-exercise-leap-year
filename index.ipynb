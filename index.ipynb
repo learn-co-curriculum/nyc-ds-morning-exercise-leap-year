{
 "cells": [
  {
   "cell_type": "markdown",
   "metadata": {},
   "source": [
    "# Leap year function\n",
    "\n",
    "An extra day is added to the calendar almost every four years as February 29, and the day is called a leap day. It corrects the calendar for the fact that our planet takes approximately 365.25 days to orbit the sun. A leap year contains a leap day.\n",
    "\n",
    "In the Gregorian calendar, three conditions are used to identify leap years:\n",
    "\n",
    "- The year can be evenly divided by 4, is a leap year, unless:\n",
    "- The year can be evenly divided by 100, it is NOT a leap year, unless:\n",
    "- The year is also evenly divisible by 400. Then it is a leap year.\n",
    "\n",
    "This means that in the Gregorian calendar, the years 2000 and 2400 are leap years, while 1800, 1900, 2100, 2200, 2300 and 2500 are NOT leap years. Source\n",
    "\n",
    "## Task\n",
    "\n",
    "Given a year, determine whether it is a leap year. If it is a leap year, return the boolean ```True```, otherwise return ```False```.\n",
    "\n",
    "\n",
    "### Input Format\n",
    "\n",
    "Read ```year```, the year to test.\n",
    "\n",
    "### Constraints\n",
    "1900 <= ```year``` <= 10^5\n",
    "\n",
    "### Output Format\n",
    "\n",
    "The function must return a Boolean value (True/False). Output is handled by the provided code stub.\n",
    "\n",
    "#### Sample Input\n",
    "```1990```\n",
    "\n",
    "#### Sample Output\n",
    "```False```\n",
    "\n",
    "#### Explanation\n",
    "```1990``` is not a multiple of 4; thus, it's not a leap year."
   ]
  },
  {
   "cell_type": "markdown",
   "metadata": {},
   "source": [
    "## Your code below"
   ]
  },
  {
   "cell_type": "code",
   "execution_count": null,
   "metadata": {},
   "outputs": [],
   "source": [
    "def is_leap(year):\n",
    "    # Write your logic here\n",
    "    pass"
   ]
  },
  {
   "cell_type": "markdown",
   "metadata": {},
   "source": [
    "## Test\n",
    "\n",
    "Try to get each of the following tests to print ```True```."
   ]
  },
  {
   "cell_type": "code",
   "execution_count": null,
   "metadata": {},
   "outputs": [],
   "source": [
    "print(is_leap(1900) == False)\n",
    "print(is_leap(1982) == False)\n",
    "print(is_leap(1994) == False)\n",
    "print(is_leap(2000) == True)\n",
    "print(is_leap(2001) == False)\n",
    "print(is_leap(2004) == True)\n",
    "print(is_leap(2020) == True)\n",
    "print(is_leap(2100) == False)"
   ]
  },
  {
   "cell_type": "code",
   "execution_count": null,
   "metadata": {},
   "outputs": [],
   "source": []
  }
 ],
 "metadata": {
  "kernelspec": {
   "display_name": "learn-env",
   "language": "python",
   "name": "learn-env"
  },
  "language_info": {
   "codemirror_mode": {
    "name": "ipython",
    "version": 3
   },
   "file_extension": ".py",
   "mimetype": "text/x-python",
   "name": "python",
   "nbconvert_exporter": "python",
   "pygments_lexer": "ipython3",
   "version": "3.6.9"
  }
 },
 "nbformat": 4,
 "nbformat_minor": 4
}
